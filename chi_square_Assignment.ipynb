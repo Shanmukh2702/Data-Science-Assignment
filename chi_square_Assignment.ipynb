{
 "cells": [
  {
   "cell_type": "code",
   "execution_count": 1,
   "id": "4400e714-adc5-4b3c-a209-32f33471a810",
   "metadata": {},
   "outputs": [
    {
     "data": {
      "text/html": [
       "<div>\n",
       "<style scoped>\n",
       "    .dataframe tbody tr th:only-of-type {\n",
       "        vertical-align: middle;\n",
       "    }\n",
       "\n",
       "    .dataframe tbody tr th {\n",
       "        vertical-align: top;\n",
       "    }\n",
       "\n",
       "    .dataframe thead th {\n",
       "        text-align: right;\n",
       "    }\n",
       "</style>\n",
       "<table border=\"1\" class=\"dataframe\">\n",
       "  <thead>\n",
       "    <tr style=\"text-align: right;\">\n",
       "      <th></th>\n",
       "      <th>Satisfaction</th>\n",
       "      <th>Smart Thermostat</th>\n",
       "      <th>Smart Light</th>\n",
       "      <th>Total</th>\n",
       "    </tr>\n",
       "  </thead>\n",
       "  <tbody>\n",
       "    <tr>\n",
       "      <th>0</th>\n",
       "      <td>Very Satisfied</td>\n",
       "      <td>50</td>\n",
       "      <td>70</td>\n",
       "      <td>120</td>\n",
       "    </tr>\n",
       "    <tr>\n",
       "      <th>1</th>\n",
       "      <td>Satisfied</td>\n",
       "      <td>80</td>\n",
       "      <td>100</td>\n",
       "      <td>180</td>\n",
       "    </tr>\n",
       "    <tr>\n",
       "      <th>2</th>\n",
       "      <td>Neutral</td>\n",
       "      <td>60</td>\n",
       "      <td>90</td>\n",
       "      <td>150</td>\n",
       "    </tr>\n",
       "    <tr>\n",
       "      <th>3</th>\n",
       "      <td>UnSatisfied</td>\n",
       "      <td>30</td>\n",
       "      <td>50</td>\n",
       "      <td>80</td>\n",
       "    </tr>\n",
       "    <tr>\n",
       "      <th>4</th>\n",
       "      <td>Very UnSatisfied</td>\n",
       "      <td>20</td>\n",
       "      <td>50</td>\n",
       "      <td>70</td>\n",
       "    </tr>\n",
       "    <tr>\n",
       "      <th>5</th>\n",
       "      <td>Total</td>\n",
       "      <td>240</td>\n",
       "      <td>360</td>\n",
       "      <td>600</td>\n",
       "    </tr>\n",
       "  </tbody>\n",
       "</table>\n",
       "</div>"
      ],
      "text/plain": [
       "       Satisfaction  Smart Thermostat  Smart Light  Total\n",
       "0    Very Satisfied                50           70    120\n",
       "1         Satisfied                80          100    180\n",
       "2           Neutral                60           90    150\n",
       "3       UnSatisfied                30           50     80\n",
       "4  Very UnSatisfied                20           50     70\n",
       "5             Total               240          360    600"
      ]
     },
     "execution_count": 1,
     "metadata": {},
     "output_type": "execute_result"
    }
   ],
   "source": [
    "import pandas as pd\n",
    "df=pd.read_csv(r\"C:\\Users\\Dell\\Desktop\\D.S Assignments\\Hypothesis testing\\Book1.csv\")\n",
    "df"
   ]
  },
  {
   "cell_type": "code",
   "execution_count": 17,
   "id": "f0596166-e683-463c-9233-d2539eedfb08",
   "metadata": {},
   "outputs": [
    {
     "data": {
      "text/plain": [
       "Index(['Satisfaction', 'Smart Thermostat', 'Smart Light', 'Total'], dtype='object')"
      ]
     },
     "execution_count": 17,
     "metadata": {},
     "output_type": "execute_result"
    }
   ],
   "source": [
    "df.columns"
   ]
  },
  {
   "cell_type": "code",
   "execution_count": 27,
   "id": "3c74cdb2-3b8f-44bd-ad1c-1ec8799c5f05",
   "metadata": {},
   "outputs": [
    {
     "data": {
      "text/html": [
       "<div>\n",
       "<style scoped>\n",
       "    .dataframe tbody tr th:only-of-type {\n",
       "        vertical-align: middle;\n",
       "    }\n",
       "\n",
       "    .dataframe tbody tr th {\n",
       "        vertical-align: top;\n",
       "    }\n",
       "\n",
       "    .dataframe thead th {\n",
       "        text-align: right;\n",
       "    }\n",
       "</style>\n",
       "<table border=\"1\" class=\"dataframe\">\n",
       "  <thead>\n",
       "    <tr style=\"text-align: right;\">\n",
       "      <th>Smart Light</th>\n",
       "      <th>50</th>\n",
       "      <th>70</th>\n",
       "      <th>90</th>\n",
       "      <th>100</th>\n",
       "      <th>360</th>\n",
       "      <th>All</th>\n",
       "    </tr>\n",
       "    <tr>\n",
       "      <th>Smart Thermostat</th>\n",
       "      <th></th>\n",
       "      <th></th>\n",
       "      <th></th>\n",
       "      <th></th>\n",
       "      <th></th>\n",
       "      <th></th>\n",
       "    </tr>\n",
       "  </thead>\n",
       "  <tbody>\n",
       "    <tr>\n",
       "      <th>20</th>\n",
       "      <td>1</td>\n",
       "      <td>0</td>\n",
       "      <td>0</td>\n",
       "      <td>0</td>\n",
       "      <td>0</td>\n",
       "      <td>1</td>\n",
       "    </tr>\n",
       "    <tr>\n",
       "      <th>30</th>\n",
       "      <td>1</td>\n",
       "      <td>0</td>\n",
       "      <td>0</td>\n",
       "      <td>0</td>\n",
       "      <td>0</td>\n",
       "      <td>1</td>\n",
       "    </tr>\n",
       "    <tr>\n",
       "      <th>50</th>\n",
       "      <td>0</td>\n",
       "      <td>1</td>\n",
       "      <td>0</td>\n",
       "      <td>0</td>\n",
       "      <td>0</td>\n",
       "      <td>1</td>\n",
       "    </tr>\n",
       "    <tr>\n",
       "      <th>60</th>\n",
       "      <td>0</td>\n",
       "      <td>0</td>\n",
       "      <td>1</td>\n",
       "      <td>0</td>\n",
       "      <td>0</td>\n",
       "      <td>1</td>\n",
       "    </tr>\n",
       "    <tr>\n",
       "      <th>80</th>\n",
       "      <td>0</td>\n",
       "      <td>0</td>\n",
       "      <td>0</td>\n",
       "      <td>1</td>\n",
       "      <td>0</td>\n",
       "      <td>1</td>\n",
       "    </tr>\n",
       "    <tr>\n",
       "      <th>240</th>\n",
       "      <td>0</td>\n",
       "      <td>0</td>\n",
       "      <td>0</td>\n",
       "      <td>0</td>\n",
       "      <td>1</td>\n",
       "      <td>1</td>\n",
       "    </tr>\n",
       "    <tr>\n",
       "      <th>All</th>\n",
       "      <td>2</td>\n",
       "      <td>1</td>\n",
       "      <td>1</td>\n",
       "      <td>1</td>\n",
       "      <td>1</td>\n",
       "      <td>6</td>\n",
       "    </tr>\n",
       "  </tbody>\n",
       "</table>\n",
       "</div>"
      ],
      "text/plain": [
       "Smart Light       50  70  90  100  360  All\n",
       "Smart Thermostat                           \n",
       "20                 1   0   0    0    0    1\n",
       "30                 1   0   0    0    0    1\n",
       "50                 0   1   0    0    0    1\n",
       "60                 0   0   1    0    0    1\n",
       "80                 0   0   0    1    0    1\n",
       "240                0   0   0    0    1    1\n",
       "All                2   1   1    1    1    6"
      ]
     },
     "execution_count": 27,
     "metadata": {},
     "output_type": "execute_result"
    }
   ],
   "source": [
    "dataset=pd.crosstab(df['Smart Thermostat'], df['Smart Light'],margins=True)\n",
    "dataset"
   ]
  },
  {
   "cell_type": "code",
   "execution_count": 29,
   "id": "39dc32ae-c810-4afc-9bd6-308666535b41",
   "metadata": {},
   "outputs": [
    {
     "data": {
      "text/plain": [
       "array([[1, 0, 0, 0, 0, 1],\n",
       "       [1, 0, 0, 0, 0, 1],\n",
       "       [0, 1, 0, 0, 0, 1],\n",
       "       [0, 0, 1, 0, 0, 1],\n",
       "       [0, 0, 0, 1, 0, 1],\n",
       "       [0, 0, 0, 0, 1, 1],\n",
       "       [2, 1, 1, 1, 1, 6]], dtype=int64)"
      ]
     },
     "execution_count": 29,
     "metadata": {},
     "output_type": "execute_result"
    }
   ],
   "source": [
    "dataset1=pd.crosstab(df['Smart Thermostat'], df['Smart Light'],margins=True)\n",
    "observed_value=dataset1.values\n",
    "observed_value"
   ]
  },
  {
   "cell_type": "code",
   "execution_count": 31,
   "id": "fd2f394e-9532-4c5d-af0c-25433cbfebd8",
   "metadata": {},
   "outputs": [],
   "source": [
    "import numpy as np\n",
    "import matplotlib.pyplot as plt\n",
    "from scipy.stats import chi2_contingency\n",
    "import scipy.stats as stats\n",
    "import seaborn as sns"
   ]
  },
  {
   "cell_type": "code",
   "execution_count": 33,
   "id": "105b73de-6f9a-4c51-a0a9-163060687f42",
   "metadata": {},
   "outputs": [
    {
     "data": {
      "text/plain": [
       "Chi2ContingencyResult(statistic=24.000000000000007, pvalue=0.7720245323035444, dof=30, expected_freq=array([[0.33333333, 0.16666667, 0.16666667, 0.16666667, 0.16666667,\n",
       "        1.        ],\n",
       "       [0.33333333, 0.16666667, 0.16666667, 0.16666667, 0.16666667,\n",
       "        1.        ],\n",
       "       [0.33333333, 0.16666667, 0.16666667, 0.16666667, 0.16666667,\n",
       "        1.        ],\n",
       "       [0.33333333, 0.16666667, 0.16666667, 0.16666667, 0.16666667,\n",
       "        1.        ],\n",
       "       [0.33333333, 0.16666667, 0.16666667, 0.16666667, 0.16666667,\n",
       "        1.        ],\n",
       "       [0.33333333, 0.16666667, 0.16666667, 0.16666667, 0.16666667,\n",
       "        1.        ],\n",
       "       [2.        , 1.        , 1.        , 1.        , 1.        ,\n",
       "        6.        ]]))"
      ]
     },
     "execution_count": 33,
     "metadata": {},
     "output_type": "execute_result"
    }
   ],
   "source": [
    "val=stats.chi2_contingency(dataset1)\n",
    "val"
   ]
  },
  {
   "cell_type": "code",
   "execution_count": 37,
   "id": "ce66233f-3db5-4c31-8f20-2d5ea721fd7e",
   "metadata": {},
   "outputs": [
    {
     "data": {
      "text/plain": [
       "array([[0.33333333, 0.16666667, 0.16666667, 0.16666667, 0.16666667,\n",
       "        1.        ],\n",
       "       [0.33333333, 0.16666667, 0.16666667, 0.16666667, 0.16666667,\n",
       "        1.        ],\n",
       "       [0.33333333, 0.16666667, 0.16666667, 0.16666667, 0.16666667,\n",
       "        1.        ],\n",
       "       [0.33333333, 0.16666667, 0.16666667, 0.16666667, 0.16666667,\n",
       "        1.        ],\n",
       "       [0.33333333, 0.16666667, 0.16666667, 0.16666667, 0.16666667,\n",
       "        1.        ],\n",
       "       [0.33333333, 0.16666667, 0.16666667, 0.16666667, 0.16666667,\n",
       "        1.        ],\n",
       "       [2.        , 1.        , 1.        , 1.        , 1.        ,\n",
       "        6.        ]])"
      ]
     },
     "execution_count": 37,
     "metadata": {},
     "output_type": "execute_result"
    }
   ],
   "source": [
    "expected_value=val[3]\n",
    "expected_value"
   ]
  },
  {
   "cell_type": "code",
   "execution_count": 41,
   "id": "9ad53bb1-bc88-4266-83a4-eed2e9b29d35",
   "metadata": {},
   "outputs": [],
   "source": [
    "no_of_rows=len(dataset1.iloc[0:2,0])\n",
    "no_of_columns=len(dataset.iloc[0,0:2])"
   ]
  },
  {
   "cell_type": "code",
   "execution_count": 45,
   "id": "114a8158-8575-4645-a4cf-657c675b9101",
   "metadata": {},
   "outputs": [],
   "source": [
    "#degree of freedom\n",
    "ddof=(no_of_rows-1)*(no_of_columns-1)\n",
    "alpha=0.05"
   ]
  },
  {
   "cell_type": "code",
   "execution_count": 47,
   "id": "b90f0414-0556-469e-827b-86ec4cb8ea49",
   "metadata": {},
   "outputs": [],
   "source": [
    "from scipy.stats import chi2\n",
    "chi_square=sum([(o-e)**2./e for o,e in zip(observed_value,expected_value)])"
   ]
  },
  {
   "cell_type": "code",
   "execution_count": 49,
   "id": "28d8b100-5065-4837-aa8b-aaaab259d934",
   "metadata": {},
   "outputs": [
    {
     "data": {
      "text/plain": [
       "9.000000000000004"
      ]
     },
     "execution_count": 49,
     "metadata": {},
     "output_type": "execute_result"
    }
   ],
   "source": [
    "chi_square_statistic=chi_square[0]+chi_square[1]\n",
    "chi_square_statistic"
   ]
  },
  {
   "cell_type": "code",
   "execution_count": 51,
   "id": "39a79939-d87f-4f2a-80d4-9be847df4efb",
   "metadata": {},
   "outputs": [
    {
     "data": {
      "text/plain": [
       "3.841458820694124"
      ]
     },
     "execution_count": 51,
     "metadata": {},
     "output_type": "execute_result"
    }
   ],
   "source": [
    "critical_value=chi2.ppf(1-alpha,df=ddof)\n",
    "critical_value"
   ]
  },
  {
   "cell_type": "code",
   "execution_count": 53,
   "id": "4fa05874-d89a-49d6-9720-55ef569f026e",
   "metadata": {},
   "outputs": [
    {
     "name": "stdout",
     "output_type": "stream",
     "text": [
      "Reject Ho(Null hypothesis),there is relationship between two numerical variable\n"
     ]
    }
   ],
   "source": [
    "if chi_square_statistic>=critical_value:\n",
    "    print(\"Reject Ho(Null hypothesis),there is relationship between two numerical variable\")\n",
    "else :\n",
    "    print(\"Retain Ho(Null hypothesis),there is no relationship between two numerical variable\")"
   ]
  },
  {
   "cell_type": "code",
   "execution_count": 55,
   "id": "dc0e3b91-8269-4c9d-8706-521bc890a311",
   "metadata": {},
   "outputs": [
    {
     "data": {
      "text/plain": [
       "0.002699796063260207"
      ]
     },
     "execution_count": 55,
     "metadata": {},
     "output_type": "execute_result"
    }
   ],
   "source": [
    "p_value=1-chi2.cdf(x=chi_square_statistic,df=ddof)\n",
    "p_value"
   ]
  },
  {
   "cell_type": "code",
   "execution_count": 57,
   "id": "b7b7bf7b-e7e0-403d-98d1-13b7a6ec1ee2",
   "metadata": {},
   "outputs": [
    {
     "name": "stdout",
     "output_type": "stream",
     "text": [
      "Reject Ho(Null hypothesis),there is relationship between two numerical variable\n"
     ]
    }
   ],
   "source": [
    "if p_value<=alpha:\n",
    "    print(\"Reject Ho(Null hypothesis),there is relationship between two numerical variable\")\n",
    "else :\n",
    "    print(\"Retain Ho(Null hypothesis),there is no relationship between two numerical variable\")"
   ]
  },
  {
   "cell_type": "code",
   "execution_count": null,
   "id": "3f680459-261d-492e-b4fe-5e8ba46a65f2",
   "metadata": {},
   "outputs": [],
   "source": []
  }
 ],
 "metadata": {
  "kernelspec": {
   "display_name": "Python 3 (ipykernel)",
   "language": "python",
   "name": "python3"
  },
  "language_info": {
   "codemirror_mode": {
    "name": "ipython",
    "version": 3
   },
   "file_extension": ".py",
   "mimetype": "text/x-python",
   "name": "python",
   "nbconvert_exporter": "python",
   "pygments_lexer": "ipython3",
   "version": "3.12.4"
  }
 },
 "nbformat": 4,
 "nbformat_minor": 5
}
