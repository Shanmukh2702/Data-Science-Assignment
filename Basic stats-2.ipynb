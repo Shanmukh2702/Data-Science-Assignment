{
 "cells": [
  {
   "cell_type": "code",
   "execution_count": 7,
   "id": "d9591817-9b19-4acb-bb10-3f5850f4267d",
   "metadata": {},
   "outputs": [],
   "source": [
    "# importing a data and the libraries\n",
    "import numpy as np\n",
    "import scipy.stats as stats\n",
    "sample_data=np.array([1.13, 1.55, 1.43, 0.92, 1.25, 1.36, 1.32, 0.85, 1.07, 1.48, 1.20, 1.33, 1.18, 1.22, 1.29])\n"
   ]
  },
  {
   "cell_type": "code",
   "execution_count": 9,
   "id": "5b4d9795-012a-4bd6-a022-fccafbe3a360",
   "metadata": {},
   "outputs": [
    {
     "data": {
      "text/plain": [
       "1.2386666666666666"
      ]
     },
     "execution_count": 9,
     "metadata": {},
     "output_type": "execute_result"
    }
   ],
   "source": [
    "#calculating sample_mean and sample_std for t_test\n",
    "sample_mean=np.mean(sample_data)\n",
    "sample_mean"
   ]
  },
  {
   "cell_type": "code",
   "execution_count": 11,
   "id": "470d6a62-80d3-4811-9949-95f359555854",
   "metadata": {},
   "outputs": [
    {
     "data": {
      "text/plain": [
       "0.18661427836285438"
      ]
     },
     "execution_count": 11,
     "metadata": {},
     "output_type": "execute_result"
    }
   ],
   "source": [
    "sample_std=np.std(sample_data)\n",
    "sample_std"
   ]
  },
  {
   "cell_type": "code",
   "execution_count": 13,
   "id": "a7b7cd44-7000-4765-be78-54e1fd453218",
   "metadata": {},
   "outputs": [
    {
     "data": {
      "text/plain": [
       "0.010000000000000009"
      ]
     },
     "execution_count": 13,
     "metadata": {},
     "output_type": "execute_result"
    }
   ],
   "source": [
    "#calculating alpha\n",
    "confidence_interval=0.99\n",
    "alpha=1-confidence_interval\n",
    "alpha"
   ]
  },
  {
   "cell_type": "code",
   "execution_count": 21,
   "id": "4283f371-c467-4fff-b9ce-139a9efcc78f",
   "metadata": {},
   "outputs": [
    {
     "data": {
      "text/plain": [
       "15"
      ]
     },
     "execution_count": 21,
     "metadata": {},
     "output_type": "execute_result"
    }
   ],
   "source": [
    "n=len(sample_data)\n",
    "n"
   ]
  },
  {
   "cell_type": "code",
   "execution_count": 25,
   "id": "b4dd8f7b-8b82-467b-97d5-800f88b78cde",
   "metadata": {},
   "outputs": [
    {
     "data": {
      "text/plain": [
       "14"
      ]
     },
     "execution_count": 25,
     "metadata": {},
     "output_type": "execute_result"
    }
   ],
   "source": [
    "#Calculate t_critical for 99%confidence interval\n",
    "df=n-1\n",
    "df"
   ]
  },
  {
   "cell_type": "code",
   "execution_count": 47,
   "id": "4b591b05-6de2-4167-8789-39101fa7a9c8",
   "metadata": {},
   "outputs": [
    {
     "data": {
      "text/plain": [
       "2.976842734370834"
      ]
     },
     "execution_count": 47,
     "metadata": {},
     "output_type": "execute_result"
    }
   ],
   "source": [
    "t_critical=stats.t.ppf(1-(alpha/2),df)\n",
    "t_critical"
   ]
  },
  {
   "cell_type": "code",
   "execution_count": 49,
   "id": "07086128-c393-47fd-b857-58915d36091a",
   "metadata": {},
   "outputs": [
    {
     "data": {
      "text/plain": [
       "0.14343499804054372"
      ]
     },
     "execution_count": 49,
     "metadata": {},
     "output_type": "execute_result"
    }
   ],
   "source": [
    "# Step 4: Calculate the margin of error\n",
    "margin_of_error = t_critical * (sample_std / np.sqrt(n))\n",
    "margin_of_error\n"
   ]
  },
  {
   "cell_type": "code",
   "execution_count": 45,
   "id": "6f222887-15a2-461f-8b86-862549ee434e",
   "metadata": {},
   "outputs": [
    {
     "data": {
      "text/plain": [
       "(1.095231668626123, 1.3821016647072102)"
      ]
     },
     "execution_count": 45,
     "metadata": {},
     "output_type": "execute_result"
    }
   ],
   "source": [
    "# Step 5: Compute the confidence interval\n",
    "confidence_interval = (sample_mean - margin_of_error, sample_mean + margin_of_error)\n",
    "confidence_interval"
   ]
  },
  {
   "cell_type": "code",
   "execution_count": 55,
   "id": "5b585713-a9a0-417e-9c70-436b0fce47d7",
   "metadata": {},
   "outputs": [],
   "source": [
    "# for calculating z_critical using population_std\n",
    "population_std=0.2"
   ]
  },
  {
   "cell_type": "code",
   "execution_count": 51,
   "id": "40b5d9b3-12cb-4c0a-b4de-ba170f0961e7",
   "metadata": {},
   "outputs": [
    {
     "data": {
      "text/plain": [
       "16.5758293035489"
      ]
     },
     "execution_count": 51,
     "metadata": {},
     "output_type": "execute_result"
    }
   ],
   "source": [
    "#calculating z_critical\n",
    "z_critical=stats.norm.ppf(1-(alpha/2),df)\n",
    "z_critical"
   ]
  },
  {
   "cell_type": "code",
   "execution_count": 57,
   "id": "91d6cd4a-a4ce-4511-a966-0500dd2f6973",
   "metadata": {},
   "outputs": [
    {
     "data": {
      "text/plain": [
       "0.855972144562957"
      ]
     },
     "execution_count": 57,
     "metadata": {},
     "output_type": "execute_result"
    }
   ],
   "source": [
    "#mariginal_of_error\n",
    "marginal_of_error=z_critical*(population_std/np.sqrt(n))\n",
    "marginal_of_error"
   ]
  },
  {
   "cell_type": "code",
   "execution_count": 59,
   "id": "7d44814b-c1c0-4638-8668-abf6de2c2fc1",
   "metadata": {},
   "outputs": [
    {
     "data": {
      "text/plain": [
       "(0.3826945221037096, 2.0946388112296237)"
      ]
     },
     "execution_count": 59,
     "metadata": {},
     "output_type": "execute_result"
    }
   ],
   "source": [
    "confidence_interval = (sample_mean - marginal_of_error, sample_mean + marginal_of_error)\n",
    "confidence_interval"
   ]
  },
  {
   "cell_type": "code",
   "execution_count": null,
   "id": "4e9c3462-e2c6-4a06-9a10-dabfa9ddb656",
   "metadata": {},
   "outputs": [],
   "source": []
  }
 ],
 "metadata": {
  "kernelspec": {
   "display_name": "Python 3 (ipykernel)",
   "language": "python",
   "name": "python3"
  },
  "language_info": {
   "codemirror_mode": {
    "name": "ipython",
    "version": 3
   },
   "file_extension": ".py",
   "mimetype": "text/x-python",
   "name": "python",
   "nbconvert_exporter": "python",
   "pygments_lexer": "ipython3",
   "version": "3.12.4"
  }
 },
 "nbformat": 4,
 "nbformat_minor": 5
}
