{
 "cells": [
  {
   "cell_type": "code",
   "execution_count": 1,
   "id": "e4512c42-a18a-49c2-ac0f-63b898e73bea",
   "metadata": {},
   "outputs": [],
   "source": [
    "import numpy as np\n",
    "import scipy.stats as stats"
   ]
  },
  {
   "cell_type": "code",
   "execution_count": 21,
   "id": "b88eef5b-ace8-47c1-ad28-70a6dd1067a4",
   "metadata": {},
   "outputs": [],
   "source": [
    "samples=25\n",
    "sample_mean=3050\n",
    "std=5*25\n",
    "population_mean=1000+(5*600)\n",
    "alpha=0.05\n",
    "#Null Hypothesis(H0):The operating cost for franchise will increases weekly\n",
    "#Alternate Hypothesis(Ha):The operating cost for franchise will not increases weekly"
   ]
  },
  {
   "cell_type": "code",
   "execution_count": 3,
   "id": "87d7699a-5ac3-4069-a909-a0234b972a25",
   "metadata": {},
   "outputs": [
    {
     "data": {
      "text/plain": [
       "4000"
      ]
     },
     "execution_count": 3,
     "metadata": {},
     "output_type": "execute_result"
    }
   ],
   "source": [
    "population_mean=1000+(5*600)\n",
    "population_mean"
   ]
  },
  {
   "cell_type": "code",
   "execution_count": 25,
   "id": "9a708d81-dc0b-42f9-8120-159934630092",
   "metadata": {},
   "outputs": [
    {
     "data": {
      "text/plain": [
       "-38.0"
      ]
     },
     "execution_count": 25,
     "metadata": {},
     "output_type": "execute_result"
    }
   ],
   "source": [
    "#z_score=((sample_mean-population_mean)/(std/np.sqrt(25)))\n",
    "#z_score\n",
    "z_score=((3050-4000)/(125/np.sqrt(25)))\n",
    "z_score"
   ]
  },
  {
   "cell_type": "code",
   "execution_count": 27,
   "id": "5a31a5c6-b4d5-4032-8b94-814c93ad2dfa",
   "metadata": {},
   "outputs": [
    {
     "data": {
      "text/plain": [
       "1.6448536269514722"
      ]
     },
     "execution_count": 27,
     "metadata": {},
     "output_type": "execute_result"
    }
   ],
   "source": [
    "z_critical=stats.norm.ppf(1-alpha)\n",
    "z_critical"
   ]
  },
  {
   "cell_type": "code",
   "execution_count": 29,
   "id": "259e601e-a89c-4c10-9174-8c37860cbddd",
   "metadata": {},
   "outputs": [
    {
     "name": "stdout",
     "output_type": "stream",
     "text": [
      "Fail to reject Null Hpothesis\n"
     ]
    }
   ],
   "source": [
    "if z_score>z_critical:\n",
    "    print(\"Reject Null Hypothesis\")\n",
    "else:\n",
    "    print(\"Fail to reject Null Hpothesis\")"
   ]
  },
  {
   "cell_type": "code",
   "execution_count": 31,
   "id": "783bcc97-1719-4362-91a5-7f2ce16e7953",
   "metadata": {},
   "outputs": [
    {
     "data": {
      "text/plain": [
       "1.0"
      ]
     },
     "execution_count": 31,
     "metadata": {},
     "output_type": "execute_result"
    }
   ],
   "source": [
    "p_value=1-stats.norm.cdf(z_score)\n",
    "p_value"
   ]
  },
  {
   "cell_type": "code",
   "execution_count": 33,
   "id": "be4a453b-a99e-4b11-8ac2-c21a031a2c17",
   "metadata": {},
   "outputs": [
    {
     "name": "stdout",
     "output_type": "stream",
     "text": [
      "Fails to reject Null Hypothesis\n"
     ]
    }
   ],
   "source": [
    "if p_value<alpha:\n",
    "    print(\"Reject Null Hypothesis\")\n",
    "else:\n",
    "    print(\"Fails to reject Null Hypothesis\")"
   ]
  },
  {
   "cell_type": "code",
   "execution_count": 35,
   "id": "57435505-5550-4e44-9801-75e48870d3b5",
   "metadata": {},
   "outputs": [],
   "source": [
    "#conclusion: Accept null hypothesis,states The operating cost of franchise in weekly \n",
    "#will increase as said by the resturamt owners .\n"
   ]
  },
  {
   "cell_type": "code",
   "execution_count": null,
   "id": "30cf22be-933b-4470-9bb8-b75609e2668e",
   "metadata": {},
   "outputs": [],
   "source": []
  }
 ],
 "metadata": {
  "kernelspec": {
   "display_name": "Python 3 (ipykernel)",
   "language": "python",
   "name": "python3"
  },
  "language_info": {
   "codemirror_mode": {
    "name": "ipython",
    "version": 3
   },
   "file_extension": ".py",
   "mimetype": "text/x-python",
   "name": "python",
   "nbconvert_exporter": "python",
   "pygments_lexer": "ipython3",
   "version": "3.12.4"
  }
 },
 "nbformat": 4,
 "nbformat_minor": 5
}
